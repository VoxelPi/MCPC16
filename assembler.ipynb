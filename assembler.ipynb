{
 "cells": [
  {
   "cell_type": "code",
   "execution_count": null,
   "id": "d5cea863",
   "metadata": {},
   "outputs": [],
   "source": [
    "import numpy as np\n",
    "import pathlib\n",
    "import sys\n",
    "\n",
    "import mcpc16\n",
    "import mcasm16\n",
    "\n",
    "input_filename = r\"programs\\program.mcasm\"\n",
    "output_filename = r\"output\\program.mcbin\"\n",
    "\n",
    "input_filepath = pathlib.Path(input_filename)\n",
    "output_filepath = pathlib.Path(output_filename)\n",
    "\n",
    "print(f\"Assembling '{input_filepath.resolve()}' -> '{output_filepath.resolve()}'\")"
   ]
  },
  {
   "cell_type": "markdown",
   "id": "ea51c5f6",
   "metadata": {},
   "source": [
    "## Load the instruction lines"
   ]
  },
  {
   "cell_type": "markdown",
   "id": "43045df1",
   "metadata": {},
   "source": [
    "### Include Paths"
   ]
  },
  {
   "cell_type": "code",
   "execution_count": null,
   "id": "63122f07",
   "metadata": {},
   "outputs": [],
   "source": [
    "include_paths: list[pathlib.Path] = [\n",
    "    pathlib.Path.cwd() / \"stdlib\",\n",
    "]"
   ]
  },
  {
   "cell_type": "markdown",
   "id": "0345d152",
   "metadata": {},
   "source": [
    "### Macros\n",
    "\n",
    "Define additional macros"
   ]
  },
  {
   "cell_type": "code",
   "execution_count": null,
   "id": "41850b1d",
   "metadata": {},
   "outputs": [],
   "source": [
    "default_macros: dict[str, str] = {\n",
    "    \"goto\": \"jump\"\n",
    "}"
   ]
  },
  {
   "cell_type": "markdown",
   "id": "32c13120",
   "metadata": {},
   "source": [
    "### Read the src lines\n",
    "\n",
    "Load all lines from the specified input file"
   ]
  },
  {
   "cell_type": "code",
   "execution_count": null,
   "id": "184bf799",
   "metadata": {},
   "outputs": [],
   "source": [
    "# Read input lines\n",
    "with open(input_filepath, \"r\") as input_file:\n",
    "    src_lines = input_file.readlines()\n",
    "src_lines = [line for line in src_lines]\n",
    "print(f\"Loaded {len(src_lines)} lines from source file:\")"
   ]
  },
  {
   "cell_type": "markdown",
   "id": "9e97b856",
   "metadata": {},
   "source": [
    "## Assemble the Program"
   ]
  },
  {
   "cell_type": "code",
   "execution_count": null,
   "id": "3bc6d7e2",
   "metadata": {},
   "outputs": [],
   "source": [
    "program = None\n",
    "try:\n",
    "    program = mcasm16.assemble(src_lines, str(input_filepath.absolute()), include_paths)\n",
    "except mcasm16.AssemblySyntaxError as exception:\n",
    "    print(exception, file=sys.stderr)\n",
    "    exit(1)\n",
    "except mcasm16.AssemblyIncludeError as exception:\n",
    "    print(exception, file=sys.stderr)\n",
    "    exit(1)\n",
    "\n",
    "if program is None:\n",
    "    print(\"Failed to assemble program.\", file=sys.stderr)\n",
    "    exit(1)\n",
    "\n",
    "# print(f\"Defined {len(program.labels)} labels:\")\n",
    "# print(\"\\n\".join([f\"'{id}': instruction {(label.location):05d} in line {(program.instructions[label.location].source.text)}\" for label in program.labels.values()]))\n",
    "# print(f\"\\nAssembled {program.n_instructions} instructions:\")\n",
    "# print(\"\\n\".join([f\"{i:05}: {line}\" for i, line in enumerate(program.instructions)]))"
   ]
  },
  {
   "cell_type": "markdown",
   "id": "85d8f53e",
   "metadata": {},
   "source": [
    "### Output Mapping"
   ]
  },
  {
   "cell_type": "code",
   "execution_count": null,
   "id": "26dab099",
   "metadata": {},
   "outputs": [],
   "source": [
    "if program is not None:\n",
    "    max_instruction_source_length = np.max([len(line.source.text) for line in program.instructions])\n",
    "    for instruction in program.instructions:\n",
    "        print(f\"{instruction.source.text.ljust(max_instruction_source_length + 3)} # line {instruction.source.line + 1:5d} of unit \\\"{instruction.source.unit}\\\"\")\n"
   ]
  },
  {
   "cell_type": "markdown",
   "id": "e6c6d632",
   "metadata": {},
   "source": [
    "## Write output file\n",
    "\n",
    "Writes the final binary to the output file."
   ]
  },
  {
   "cell_type": "code",
   "execution_count": null,
   "id": "0d3d7f92",
   "metadata": {},
   "outputs": [],
   "source": [
    "if program is not None:\n",
    "    with open(output_filepath, \"wb\") as output_file:\n",
    "        program.binary.tofile(output_file, \"\")"
   ]
  }
 ],
 "metadata": {
  "kernelspec": {
   "display_name": "base",
   "language": "python",
   "name": "python3"
  },
  "language_info": {
   "codemirror_mode": {
    "name": "ipython",
    "version": 3
   },
   "file_extension": ".py",
   "mimetype": "text/x-python",
   "name": "python",
   "nbconvert_exporter": "python",
   "pygments_lexer": "ipython3",
   "version": "3.12.7"
  }
 },
 "nbformat": 4,
 "nbformat_minor": 5
}
